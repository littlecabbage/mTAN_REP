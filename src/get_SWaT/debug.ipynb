{
 "cells": [
  {
   "cell_type": "code",
   "execution_count": 26,
   "metadata": {},
   "outputs": [],
   "source": [
    "import pandas as pd\n",
    "import numpy as np"
   ]
  },
  {
   "cell_type": "code",
   "execution_count": 24,
   "metadata": {},
   "outputs": [],
   "source": [
    "test_path = \"/root/zengzihui/ISST/ISST_Baselines/mTAN/src/get_SWaT/raw_dataset/test.csv\"\n",
    "data = pd.read_csv(test_path)\n",
    "data = data.rename(columns={\"Normal/Attack\":\"label\"})\n",
    "\n",
    "data = data.head(int(data.shape[0]))\n",
    "data.label = data['label'].map({\"Normal\": 0,\"Attack\": 1})\n",
    "\n",
    "data[\"Timestamp\"] = pd.to_datetime(data[\"Timestamp\"])\n",
    "data = data.set_index(\"Timestamp\")\n",
    "\n",
    "#%%\n",
    "feature = data.iloc[:,:51]\n",
    "mean_df = feature.mean(axis=0)\n",
    "std_df = feature.std(axis=0)\n",
    "\n",
    "norm_feature = (feature-mean_df)/std_df\n",
    "norm_feature = norm_feature.dropna(axis=1)\n",
    "n_sensor = len(norm_feature.columns)\n",
    "\n",
    "train_df = norm_feature.iloc[:int(0.6*len(data))]\n",
    "train_label = data.label.iloc[:int(0.6*len(data))]\n",
    "train_time = data.index[:int(0.6*len(data))]"
   ]
  },
  {
   "cell_type": "code",
   "execution_count": 28,
   "metadata": {},
   "outputs": [],
   "source": [
    "df = train_df\n",
    "start_idx = np.arange(0,len(df)-60, 1)\n",
    "end_idx = np.arange(60, len(df), 1)"
   ]
  },
  {
   "cell_type": "code",
   "execution_count": 37,
   "metadata": {},
   "outputs": [
    {
     "data": {
      "text/plain": [
       "array([     0,      1,      2, ..., 269888, 269889, 269890])"
      ]
     },
     "execution_count": 37,
     "metadata": {},
     "output_type": "execute_result"
    }
   ],
   "source": [
    "start_idx"
   ]
  },
  {
   "cell_type": "code",
   "execution_count": 38,
   "metadata": {},
   "outputs": [
    {
     "data": {
      "text/plain": [
       "array([    60,     61,     62, ..., 269948, 269949, 269950])"
      ]
     },
     "execution_count": 38,
     "metadata": {},
     "output_type": "execute_result"
    }
   ],
   "source": [
    "end_idx"
   ]
  },
  {
   "cell_type": "code",
   "execution_count": 33,
   "metadata": {},
   "outputs": [
    {
     "data": {
      "text/plain": [
       "TimedeltaIndex(['0 days 00:01:00', '0 days 00:01:00', '0 days 00:01:00',\n",
       "                '0 days 00:01:00', '0 days 00:01:00', '0 days 00:01:00',\n",
       "                '0 days 00:01:00', '0 days 00:01:00', '0 days 00:01:00',\n",
       "                '0 days 00:01:00',\n",
       "                ...\n",
       "                '0 days 00:01:00', '0 days 00:01:00', '0 days 00:01:00',\n",
       "                '0 days 00:01:00', '0 days 00:01:00', '0 days 00:01:00',\n",
       "                '0 days 00:01:00', '0 days 00:01:00', '0 days 00:01:00',\n",
       "                '0 days 00:01:00'],\n",
       "               dtype='timedelta64[ns]', name='Timestamp', length=269891, freq=None)"
      ]
     },
     "execution_count": 33,
     "metadata": {},
     "output_type": "execute_result"
    }
   ],
   "source": [
    "delat_time =  df.index[end_idx]-df.index[start_idx]\n",
    "delat_time"
   ]
  },
  {
   "cell_type": "code",
   "execution_count": 34,
   "metadata": {},
   "outputs": [],
   "source": [
    "idx_mask = delat_time==pd.Timedelta(60,unit='s')"
   ]
  },
  {
   "cell_type": "code",
   "execution_count": 39,
   "metadata": {},
   "outputs": [
    {
     "data": {
      "text/plain": [
       "True"
      ]
     },
     "execution_count": 39,
     "metadata": {},
     "output_type": "execute_result"
    }
   ],
   "source": [
    "idx_mask[-1]"
   ]
  },
  {
   "cell_type": "code",
   "execution_count": 36,
   "metadata": {},
   "outputs": [
    {
     "data": {
      "text/plain": [
       "269891"
      ]
     },
     "execution_count": 36,
     "metadata": {},
     "output_type": "execute_result"
    }
   ],
   "source": [
    "len(idx_mask)"
   ]
  },
  {
   "cell_type": "code",
   "execution_count": 48,
   "metadata": {},
   "outputs": [
    {
     "ename": "NameError",
     "evalue": "name 'train' is not defined",
     "output_type": "error",
     "traceback": [
      "\u001b[0;31m---------------------------------------------------------------------------\u001b[0m",
      "\u001b[0;31mNameError\u001b[0m                                 Traceback (most recent call last)",
      "\u001b[1;32m/root/zengzihui/ISST/ISST_Baselines/mTAN/src/get_SWaT/debug.ipynb Cell 10'\u001b[0m in \u001b[0;36m<cell line: 1>\u001b[0;34m()\u001b[0m\n\u001b[0;32m----> <a href='vscode-notebook-cell://ssh-remote%2B219.223.251.65/root/zengzihui/ISST/ISST_Baselines/mTAN/src/get_SWaT/debug.ipynb#ch0000016vscode-remote?line=0'>1</a>\u001b[0m \u001b[39mlen\u001b[39m(train[train_label[end_idx[idx_mask]] \u001b[39m==\u001b[39m \u001b[39m0\u001b[39m])\n",
      "\u001b[0;31mNameError\u001b[0m: name 'train' is not defined"
     ]
    }
   ],
   "source": [
    "len(train[train_label[end_idx[idx_mask]] == 0])"
   ]
  },
  {
   "cell_type": "code",
   "execution_count": 46,
   "metadata": {},
   "outputs": [
    {
     "data": {
      "text/plain": [
       "269891"
      ]
     },
     "execution_count": 46,
     "metadata": {},
     "output_type": "execute_result"
    }
   ],
   "source": [
    "len(train_label[end_idx[idx_mask]] == 1)"
   ]
  },
  {
   "cell_type": "code",
   "execution_count": 50,
   "metadata": {},
   "outputs": [
    {
     "data": {
      "text/plain": [
       "(269951, 44)"
      ]
     },
     "execution_count": 50,
     "metadata": {},
     "output_type": "execute_result"
    }
   ],
   "source": [
    "df.shape"
   ]
  },
  {
   "cell_type": "code",
   "execution_count": 54,
   "metadata": {},
   "outputs": [
    {
     "data": {
      "text/plain": [
       "Timestamp\n",
       "2015-12-28 10:29:14    1\n",
       "2015-12-28 10:29:15    1\n",
       "2015-12-28 10:29:16    1\n",
       "2015-12-28 10:29:17    1\n",
       "2015-12-28 10:29:18    1\n",
       "                      ..\n",
       "2015-12-31 11:15:23    1\n",
       "2015-12-31 11:15:24    1\n",
       "2015-12-31 11:15:25    1\n",
       "2015-12-31 11:15:26    1\n",
       "2015-12-31 11:15:27    1\n",
       "Name: label, Length: 47657, dtype: int64"
      ]
     },
     "execution_count": 54,
     "metadata": {},
     "output_type": "execute_result"
    }
   ],
   "source": [
    "train_label[train_label == 1]"
   ]
  },
  {
   "cell_type": "code",
   "execution_count": null,
   "metadata": {},
   "outputs": [],
   "source": []
  }
 ],
 "metadata": {
  "interpreter": {
   "hash": "0536a30985cff8954ebfb3a9fcf5a4c03aef1a4ca222b9b4257fa5d4ba044f55"
  },
  "kernelspec": {
   "display_name": "Python 3.8.13 ('mTan')",
   "language": "python",
   "name": "python3"
  },
  "language_info": {
   "codemirror_mode": {
    "name": "ipython",
    "version": 3
   },
   "file_extension": ".py",
   "mimetype": "text/x-python",
   "name": "python",
   "nbconvert_exporter": "python",
   "pygments_lexer": "ipython3",
   "version": "3.8.13"
  },
  "orig_nbformat": 4
 },
 "nbformat": 4,
 "nbformat_minor": 2
}
