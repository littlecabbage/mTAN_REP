{
 "cells": [
  {
   "cell_type": "code",
   "execution_count": 1,
   "metadata": {},
   "outputs": [],
   "source": [
    "from models import enc_mtan_classif_activity\n",
    "import torch\n",
    "import math\n",
    "import torch\n",
    "import torch.nn as nn\n",
    "import torch.nn.functional as F\n",
    "import numpy as np\n",
    "from NF import MAF, RealNVP"
   ]
  },
  {
   "cell_type": "markdown",
   "metadata": {},
   "source": [
    "# set model"
   ]
  },
  {
   "cell_type": "code",
   "execution_count": 2,
   "metadata": {},
   "outputs": [],
   "source": [
    "class multiTimeAttention(nn.Module):\n",
    "    \n",
    "    def __init__(self, input_dim, nhidden=16, \n",
    "                 embed_time=16, num_heads=1):\n",
    "        super(multiTimeAttention, self).__init__()\n",
    "        assert embed_time % num_heads == 0\n",
    "        self.embed_time = embed_time\n",
    "        self.embed_time_k = embed_time // num_heads\n",
    "        self.h = num_heads\n",
    "        self.dim = input_dim\n",
    "        self.nhidden = nhidden\n",
    "        self.linears = nn.ModuleList([nn.Linear(embed_time, embed_time), \n",
    "                                      nn.Linear(embed_time, embed_time),\n",
    "                                      nn.Linear(input_dim*num_heads, nhidden)])\n",
    "        \n",
    "    def attention(self, query, key, value, mask=None, dropout=None):\n",
    "        \"\"\"\n",
    "        > The function takes in a query, key, and value, and returns the weighted sum of the values, and the\n",
    "        attention weights\n",
    "        \n",
    "        :param query: the query from the decoder's first attention layer, with shape [batch_size,\n",
    "        max_length, d_model]\n",
    "        :param key: the key matrix\n",
    "        :param value: the input to the attention layer\n",
    "        :param mask: mask to prevent seeing future words (for decoder)\n",
    "        :param dropout: The dropout probability\n",
    "        :return: The attention vector and the attention weights.\n",
    "        \"\"\"\n",
    "        \n",
    "        \"Compute 'Scaled Dot Product Attention'\"\n",
    "        dim = value.size(-1)\n",
    "        d_k = query.size(-1)\n",
    "        scores = torch.matmul(query, key.transpose(-2, -1)) \\\n",
    "                 / math.sqrt(d_k)\n",
    "        scores = scores.unsqueeze(-1).repeat_interleave(dim, dim=-1)\n",
    "        if mask is not None:\n",
    "            scores = scores.masked_fill(mask.unsqueeze(-3) == 0, -1e9)\n",
    "        p_attn = F.softmax(scores, dim = -2)\n",
    "        if dropout is not None:\n",
    "            p_attn = dropout(p_attn)\n",
    "        return torch.sum(p_attn*value.unsqueeze(-3), -2), p_attn\n",
    "    \n",
    "    \n",
    "    def forward(self, query, key, value, mask=None, dropout=None):\n",
    "        \"Compute 'Scaled Dot Product Attention'\"\n",
    "        batch, seq_len, dim = value.size()\n",
    "        if mask is not None:\n",
    "            # Same mask applied to all h heads.\n",
    "            mask = mask.unsqueeze(1)\n",
    "        value = value.unsqueeze(1)\n",
    "        query, key = [l(x).view(x.size(0), -1, self.h, self.embed_time_k).transpose(1, 2)\n",
    "                      for l, x in zip(self.linears, (query, key))]\n",
    "        x, _ = self.attention(query, key, value, mask, dropout)\n",
    "        x = x.transpose(1, 2).contiguous() \\\n",
    "             .view(batch, -1, self.h * dim)\n",
    "        return self.linears[-1](x)"
   ]
  },
  {
   "cell_type": "code",
   "execution_count": 18,
   "metadata": {},
   "outputs": [],
   "source": [
    "\n",
    "class enc_mtan_classif_activity(nn.Module):\n",
    " \n",
    "    def __init__(self, input_dim, nhidden=16, \n",
    "                 embed_time=16, num_heads=1, learn_emb=True, freq=10., device='cuda'):\n",
    "        super(enc_mtan_classif_activity, self).__init__()\n",
    "        assert embed_time % num_heads == 0\n",
    "        self.freq = freq\n",
    "        self.embed_time = embed_time\n",
    "        self.learn_emb = learn_emb\n",
    "        self.dim = input_dim\n",
    "        self.device = device\n",
    "        self.nhidden = nhidden\n",
    "        self.att = multiTimeAttention(2*input_dim, nhidden, embed_time, num_heads)\n",
    "        # self.gru = nn.GRU(nhidden, nhidden, batch_first=True)\n",
    "        # self.linear = nn.Linear(nhidden, self.dim * 2)\n",
    "        \n",
    "        # n_blocks 1, \n",
    "        # input_size 1, \n",
    "        # hidden_size 32, \n",
    "        # n_hidden 1, \n",
    "        # cond_label_size=32, \n",
    "        # batch_norm=False\n",
    "        self.nf = MAF(n_blocks = 1, input_size = 1, hidden_size = 64, n_hidden = 1, cond_label_size=4, batch_norm=False,activation='tanh')\n",
    "        \n",
    "    def time_embedding(self, pos, d_model):\n",
    "        pe = torch.zeros(pos.shape[0], pos.shape[1], d_model)\n",
    "        position = 48.*pos.unsqueeze(2)\n",
    "        div_term = torch.exp(torch.arange(0, d_model, 2) *\n",
    "                             -(np.log(self.freq) / d_model))\n",
    "        pe[:, :, 0::2] = torch.sin(position * div_term)\n",
    "        pe[:, :, 1::2] = torch.cos(position * div_term)\n",
    "        return pe\n",
    "    \n",
    "       \n",
    "    def forward(self, x, time_steps):\n",
    "        batch = x.size(0)\n",
    "        time_steps = time_steps.cpu()\n",
    "        mask = x[:, :, self.dim:]\n",
    "        mask = torch.cat((mask, mask), 2)\n",
    "        if self.learn_emb:\n",
    "            key = self.learn_time_embedding(time_steps).to(self.device)\n",
    "        else:\n",
    "            key = self.time_embedding(time_steps, self.embed_time).to(self.device)\n",
    "        \n",
    "        out = self.att(key, key, x, mask)\n",
    "        # out = out[:,:,:self.dim]\n",
    "        # _, out = self.gru(out)\n",
    "        data = x[:,:,:self.dim]\n",
    "        out = out.reshape([-1,4])\n",
    "        data = data.reshape([-1,1])\n",
    "        print(self.dim, out.shape, data.shape, sep='\\n')\n",
    "        log_prob = self.nf.log_prob(data,out).reshape([batch,-1])\n",
    "        log_prob = log_prob.reshape([batch,-1,self.dim])\n",
    "        log_prob = log_prob.mean(dim=1)\n",
    "        # print(log_prob.shape)\n",
    "        return log_prob"
   ]
  },
  {
   "cell_type": "code",
   "execution_count": 19,
   "metadata": {},
   "outputs": [],
   "source": [
    "model = enc_mtan_classif_activity(\n",
    "    input_dim=45,\n",
    "    nhidden=4 * 45,\n",
    "    embed_time=128,\n",
    "    num_heads=1,\n",
    "    learn_emb=False,\n",
    "    freq=10,\n",
    "    device='cpu'\n",
    ")"
   ]
  },
  {
   "cell_type": "code",
   "execution_count": 20,
   "metadata": {},
   "outputs": [
    {
     "name": "stdout",
     "output_type": "stream",
     "text": [
      "enc_mtan_classif_activity(\n",
      "  (att): multiTimeAttention(\n",
      "    (linears): ModuleList(\n",
      "      (0): Linear(in_features=128, out_features=128, bias=True)\n",
      "      (1): Linear(in_features=128, out_features=128, bias=True)\n",
      "      (2): Linear(in_features=90, out_features=180, bias=True)\n",
      "    )\n",
      "  )\n",
      "  (nf): MAF(\n",
      "    (net): FlowSequential(\n",
      "      (0): MADE(\n",
      "        (net_input): MaskedLinear(in_features=1, out_features=64, bias=True, cond_features=4)\n",
      "        (net): Sequential(\n",
      "          (0): Tanh()\n",
      "          (1): MaskedLinear(in_features=64, out_features=64, bias=True)\n",
      "          (2): Tanh()\n",
      "          (3): MaskedLinear(in_features=64, out_features=2, bias=True)\n",
      "        )\n",
      "      )\n",
      "    )\n",
      "  )\n",
      ")\n"
     ]
    }
   ],
   "source": [
    "print(model)"
   ]
  },
  {
   "cell_type": "markdown",
   "metadata": {},
   "source": [
    "# Data Process"
   ]
  },
  {
   "cell_type": "code",
   "execution_count": 6,
   "metadata": {},
   "outputs": [],
   "source": [
    "import sys\n",
    "sys.path.append('/root/zengzihui/ISST/ISST_Baselines/mTAN/src/get_SWaT')\n",
    "from get_SWaT import get_swat_data"
   ]
  },
  {
   "cell_type": "code",
   "execution_count": 7,
   "metadata": {},
   "outputs": [
    {
     "name": "stdout",
     "output_type": "stream",
     "text": [
      "> less = 1.0 Using 1.0 FULL DATA !\n",
      "\n",
      "Beta = 1\n",
      "Train Path: /root/zengzihui/ISST/ISST_Baselines/mTAN/src/get_SWaT/raw_dataset/train.csv\n",
      "Test Path : /root/zengzihui/ISST/ISST_Baselines/mTAN/src/get_SWaT/raw_dataset/test.csv\n"
     ]
    }
   ],
   "source": [
    "data_obj = get_swat_data(batch_size = 128)"
   ]
  },
  {
   "cell_type": "code",
   "execution_count": 8,
   "metadata": {},
   "outputs": [],
   "source": [
    "train_loader = data_obj[\"train_dataloader\"]\n",
    "test_loader = data_obj[\"test_dataloader\"]\n",
    "val_loader = data_obj[\"val_dataloader\"]\n",
    "dim = data_obj[\"input_dim\"]"
   ]
  },
  {
   "cell_type": "code",
   "execution_count": 9,
   "metadata": {},
   "outputs": [],
   "source": [
    "data, label  = train_loader.dataset.__getitem__(0)[0], train_loader.dataset.__getitem__(0)[1]"
   ]
  },
  {
   "cell_type": "code",
   "execution_count": 10,
   "metadata": {},
   "outputs": [],
   "source": [
    "data = data.unsqueeze(0)\n",
    "label  = label.unsqueeze(0)"
   ]
  },
  {
   "cell_type": "code",
   "execution_count": 11,
   "metadata": {},
   "outputs": [],
   "source": [
    "observed_data, observed_mask, observed_tp = data[:, :, :dim], data[:, :, dim:2*dim], data[:, :, -1]"
   ]
  },
  {
   "cell_type": "code",
   "execution_count": 12,
   "metadata": {},
   "outputs": [
    {
     "data": {
      "text/plain": [
       "tensor([[[1., 1., 1.,  ..., 1., 1., 1.],\n",
       "         [1., 1., 1.,  ..., 1., 1., 1.],\n",
       "         [1., 1., 1.,  ..., 1., 1., 1.],\n",
       "         ...,\n",
       "         [1., 1., 1.,  ..., 1., 1., 1.],\n",
       "         [1., 1., 1.,  ..., 1., 1., 1.],\n",
       "         [1., 1., 1.,  ..., 1., 1., 1.]]])"
      ]
     },
     "execution_count": 12,
     "metadata": {},
     "output_type": "execute_result"
    }
   ],
   "source": [
    "observed_mask"
   ]
  },
  {
   "cell_type": "code",
   "execution_count": 21,
   "metadata": {},
   "outputs": [
    {
     "name": "stdout",
     "output_type": "stream",
     "text": [
      "45\n",
      "torch.Size([2700, 4])\n",
      "torch.Size([2700, 1])\n",
      "torch.Size([1, 45])\n"
     ]
    }
   ],
   "source": [
    "log = model(torch.cat((observed_data, observed_mask), 2), observed_tp)"
   ]
  },
  {
   "cell_type": "code",
   "execution_count": 38,
   "metadata": {},
   "outputs": [
    {
     "data": {
      "text/plain": [
       "tensor(-10.4520, grad_fn=<MeanBackward0>)"
      ]
     },
     "execution_count": 38,
     "metadata": {},
     "output_type": "execute_result"
    }
   ],
   "source": [
    "log.mean()"
   ]
  },
  {
   "cell_type": "code",
   "execution_count": null,
   "metadata": {},
   "outputs": [],
   "source": [
    "model.att"
   ]
  },
  {
   "cell_type": "markdown",
   "metadata": {},
   "source": [
    "# Debug model.att"
   ]
  },
  {
   "cell_type": "code",
   "execution_count": null,
   "metadata": {},
   "outputs": [],
   "source": [
    "observed_tp"
   ]
  },
  {
   "cell_type": "code",
   "execution_count": null,
   "metadata": {},
   "outputs": [],
   "source": [
    "key = model.time_embedding(observed_tp, 128)\n",
    "key"
   ]
  },
  {
   "cell_type": "code",
   "execution_count": null,
   "metadata": {},
   "outputs": [],
   "source": [
    "# out = model.att(key, key, x, mask)\n",
    "out = model.att(key, key, \n",
    "            torch.cat((observed_data, observed_mask), 2),\n",
    "            torch.cat((observed_mask, observed_mask), 2))"
   ]
  },
  {
   "cell_type": "code",
   "execution_count": null,
   "metadata": {},
   "outputs": [],
   "source": [
    "query = key;\n",
    "key = key;\n",
    "value = torch.cat((observed_data, observed_mask), 2);\n",
    "mask = torch.cat((observed_mask, observed_mask), 2);\n",
    "\n",
    "rst_sum, p_attn = attention(query, key, value, mask)"
   ]
  },
  {
   "cell_type": "markdown",
   "metadata": {},
   "source": [
    "# Debug ROC eval scores"
   ]
  },
  {
   "cell_type": "code",
   "execution_count": 7,
   "metadata": {},
   "outputs": [],
   "source": [
    "import pandas as pd\n",
    "\n",
    "\n",
    "df = pd.read_csv(\"/root/zengzihui/ISST/ISST_Baselines/mTAN/src/label_test.csv\", index_col=0)"
   ]
  },
  {
   "cell_type": "code",
   "execution_count": 8,
   "metadata": {},
   "outputs": [],
   "source": [
    "label = df.iloc[:, 0].to_list()\n",
    "predict = df.iloc[:,1].to_list()"
   ]
  },
  {
   "cell_type": "code",
   "execution_count": 9,
   "metadata": {},
   "outputs": [],
   "source": [
    "from sklearn.metrics import roc_auc_score, roc_curve, f1_score, precision_score, recall_score, classification_report, confusion_matrix\n",
    "import matplotlib.pyplot as plt\n",
    "import numpy as np"
   ]
  },
  {
   "cell_type": "code",
   "execution_count": 10,
   "metadata": {},
   "outputs": [
    {
     "data": {
      "text/plain": [
       "0.8554982604390202"
      ]
     },
     "execution_count": 10,
     "metadata": {},
     "output_type": "execute_result"
    }
   ],
   "source": [
    "roc_auc_score(label, predict)"
   ]
  },
  {
   "cell_type": "code",
   "execution_count": 11,
   "metadata": {},
   "outputs": [],
   "source": [
    "\n",
    "def ROC(y_test,y_pred):\n",
    "    fpr,tpr,tr=roc_curve(y_test,y_pred)\n",
    "    auc=roc_auc_score(y_test,y_pred)\n",
    "    idx=np.argwhere(np.diff(np.sign(tpr-(1-fpr)))).flatten()\n",
    "\n",
    "    plt.xlabel(\"FPR\")\n",
    "    plt.ylabel(\"TPR\")\n",
    "    plt.plot(fpr,tpr,label=\"AUC=\"+str(auc))\n",
    "    plt.plot(fpr,1-fpr,'r:')\n",
    "    plt.plot(fpr[idx],tpr[idx], 'ro')\n",
    "    plt.legend(loc=4)\n",
    "    plt.grid()\n",
    "    plt.show()\n",
    "    return tr[idx]"
   ]
  },
  {
   "cell_type": "code",
   "execution_count": 14,
   "metadata": {},
   "outputs": [],
   "source": [
    "df = df.rename({'0':\"label\", '1':\"pred\"}, axis = 1)"
   ]
  },
  {
   "cell_type": "code",
   "execution_count": 16,
   "metadata": {},
   "outputs": [],
   "source": [
    "df.pred.describe()\n",
    "\n",
    "thresh = df.pred.quantile(0.75)"
   ]
  },
  {
   "cell_type": "code",
   "execution_count": 17,
   "metadata": {},
   "outputs": [
    {
     "data": {
      "text/plain": [
       "-1.5909915566444397"
      ]
     },
     "execution_count": 17,
     "metadata": {},
     "output_type": "execute_result"
    }
   ],
   "source": [
    "thresh"
   ]
  },
  {
   "cell_type": "code",
   "execution_count": 22,
   "metadata": {},
   "outputs": [
    {
     "data": {
      "image/png": "[encoded data removed]",
      "text/plain": [
       "<Figure size 432x288 with 1 Axes>"
      ]
     },
     "metadata": {
      "needs_background": "light"
     },
     "output_type": "display_data"
    }
   ],
   "source": [
    "thresh = ROC(label, predict)"
   ]
  },
  {
   "cell_type": "code",
   "execution_count": 18,
   "metadata": {},
   "outputs": [],
   "source": [
    "predict_ = [0 if x < thresh else 1 for x in predict]"
   ]
  },
  {
   "cell_type": "code",
   "execution_count": 19,
   "metadata": {},
   "outputs": [
    {
     "data": {
      "text/plain": [
       "array([[32324,  7097],\n",
       "       [ 1339,  4124]])"
      ]
     },
     "execution_count": 19,
     "metadata": {},
     "output_type": "execute_result"
    }
   ],
   "source": [
    "confusion_matrix(label, predict_)"
   ]
  },
  {
   "cell_type": "code",
   "execution_count": 20,
   "metadata": {},
   "outputs": [
    {
     "name": "stdout",
     "output_type": "stream",
     "text": [
      "0.49436585950611356 0.3675251760092683 0.7548965769723595\n"
     ]
    }
   ],
   "source": [
    "f1, pre, rec = f1_score(label, predict_), precision_score(label, predict_), recall_score(label, predict_)\n",
    "\n",
    "\n",
    "print(f1, pre, rec)"
   ]
  },
  {
   "cell_type": "code",
   "execution_count": 21,
   "metadata": {},
   "outputs": [
    {
     "name": "stdout",
     "output_type": "stream",
     "text": [
      "              precision    recall  f1-score   support\n",
      "\n",
      "         0.0       0.96      0.82      0.88     39421\n",
      "         1.0       0.37      0.75      0.49      5463\n",
      "\n",
      "    accuracy                           0.81     44884\n",
      "   macro avg       0.66      0.79      0.69     44884\n",
      "weighted avg       0.89      0.81      0.84     44884\n",
      "\n"
     ]
    }
   ],
   "source": [
    "print(classification_report(label, predict_))"
   ]
  },
  {
   "cell_type": "markdown",
   "metadata": {},
   "source": [
    "# Debug Scores"
   ]
  },
  {
   "cell_type": "code",
   "execution_count": 2,
   "metadata": {},
   "outputs": [],
   "source": [
    "import pandas as pd\n",
    "\n",
    "\n",
    "df = pd.read_csv(\"/root/zengzihui/ISST/ISST_Baselines/mTAN/src/label_test_beta_0.3.csv\", index_col=0)"
   ]
  },
  {
   "cell_type": "code",
   "execution_count": 3,
   "metadata": {},
   "outputs": [],
   "source": [
    "df = df.rename({'0':\"label\", '1':\"pred\"}, axis = 1)"
   ]
  },
  {
   "cell_type": "code",
   "execution_count": 4,
   "metadata": {},
   "outputs": [
    {
     "data": {
      "text/html": [
       "<div>\n",
       "<style scoped>\n",
       "    .dataframe tbody tr th:only-of-type {\n",
       "        vertical-align: middle;\n",
       "    }\n",
       "\n",
       "    .dataframe tbody tr th {\n",
       "        vertical-align: top;\n",
       "    }\n",
       "\n",
       "    .dataframe thead th {\n",
       "        text-align: right;\n",
       "    }\n",
       "</style>\n",
       "<table border=\"1\" class=\"dataframe\">\n",
       "  <thead>\n",
       "    <tr style=\"text-align: right;\">\n",
       "      <th></th>\n",
       "      <th>label</th>\n",
       "      <th>pred</th>\n",
       "    </tr>\n",
       "  </thead>\n",
       "  <tbody>\n",
       "    <tr>\n",
       "      <th>0</th>\n",
       "      <td>0.0</td>\n",
       "      <td>-2.675318</td>\n",
       "    </tr>\n",
       "    <tr>\n",
       "      <th>1</th>\n",
       "      <td>0.0</td>\n",
       "      <td>-2.706148</td>\n",
       "    </tr>\n",
       "    <tr>\n",
       "      <th>2</th>\n",
       "      <td>0.0</td>\n",
       "      <td>-2.723125</td>\n",
       "    </tr>\n",
       "    <tr>\n",
       "      <th>3</th>\n",
       "      <td>0.0</td>\n",
       "      <td>-2.756900</td>\n",
       "    </tr>\n",
       "    <tr>\n",
       "      <th>4</th>\n",
       "      <td>0.0</td>\n",
       "      <td>-2.774264</td>\n",
       "    </tr>\n",
       "    <tr>\n",
       "      <th>...</th>\n",
       "      <td>...</td>\n",
       "      <td>...</td>\n",
       "    </tr>\n",
       "    <tr>\n",
       "      <th>44879</th>\n",
       "      <td>0.0</td>\n",
       "      <td>-1.806740</td>\n",
       "    </tr>\n",
       "    <tr>\n",
       "      <th>44880</th>\n",
       "      <td>0.0</td>\n",
       "      <td>-1.904922</td>\n",
       "    </tr>\n",
       "    <tr>\n",
       "      <th>44881</th>\n",
       "      <td>0.0</td>\n",
       "      <td>-1.877951</td>\n",
       "    </tr>\n",
       "    <tr>\n",
       "      <th>44882</th>\n",
       "      <td>0.0</td>\n",
       "      <td>-1.951714</td>\n",
       "    </tr>\n",
       "    <tr>\n",
       "      <th>44883</th>\n",
       "      <td>0.0</td>\n",
       "      <td>-1.820384</td>\n",
       "    </tr>\n",
       "  </tbody>\n",
       "</table>\n",
       "<p>44884 rows × 2 columns</p>\n",
       "</div>"
      ],
      "text/plain": [
       "       label      pred\n",
       "0        0.0 -2.675318\n",
       "1        0.0 -2.706148\n",
       "2        0.0 -2.723125\n",
       "3        0.0 -2.756900\n",
       "4        0.0 -2.774264\n",
       "...      ...       ...\n",
       "44879    0.0 -1.806740\n",
       "44880    0.0 -1.904922\n",
       "44881    0.0 -1.877951\n",
       "44882    0.0 -1.951714\n",
       "44883    0.0 -1.820384\n",
       "\n",
       "[44884 rows x 2 columns]"
      ]
     },
     "execution_count": 4,
     "metadata": {},
     "output_type": "execute_result"
    }
   ],
   "source": [
    "df"
   ]
  },
  {
   "cell_type": "code",
   "execution_count": 5,
   "metadata": {},
   "outputs": [
    {
     "data": {
      "text/plain": [
       "0        0\n",
       "1        0\n",
       "2        0\n",
       "3        0\n",
       "4        0\n",
       "        ..\n",
       "44879    0\n",
       "44880    0\n",
       "44881    0\n",
       "44882    0\n",
       "44883    0\n",
       "Name: label, Length: 44884, dtype: object"
      ]
     },
     "execution_count": 5,
     "metadata": {},
     "output_type": "execute_result"
    }
   ],
   "source": [
    "df.label = df.label.astype(int)\n",
    "df.label = df.label.map({0 : '0', 1:'1'})\n",
    "df.label"
   ]
  },
  {
   "cell_type": "markdown",
   "metadata": {},
   "source": [
    "# Search"
   ]
  },
  {
   "cell_type": "code",
   "execution_count": 52,
   "metadata": {},
   "outputs": [],
   "source": [
    "def search_best_f1(label, predict):\n",
    "    f1_best = 0\n",
    "\n",
    "    f1_list = []\n",
    "    pre_list = []\n",
    "    rec_list = []\n",
    "    thr_list = []\n",
    "\n",
    "    thresh_holds = set([round(x, 1) for x in predict])\n",
    "    for thr in thresh_holds:\n",
    "        predict_ = [0 if x < thr else 1 for x in predict]\n",
    "        f1, pre, rec = f1_score(label, predict_), precision_score(label, predict_), recall_score(label, predict_)\n",
    "\n",
    "        if f1 > f1_best:\n",
    "            \n",
    "            f1_best = f1;\n",
    "            f1_list.append(f1)\n",
    "            pre_list.append(pre)\n",
    "            rec_list.append(rec)\n",
    "            thr_list.append(thr)\n",
    "            print(f\"Best Threshold: {thr}\")\n",
    "            print(\"[f1 = {%.4f}, pre = {%.4f}, rec = {%.4f}]\" % (f1, pre, rec))\n",
    "\n",
    "    \n",
    "\n",
    "    return f1_best, f1_list, pre_list, rec_list"
   ]
  },
  {
   "cell_type": "code",
   "execution_count": 53,
   "metadata": {},
   "outputs": [
    {
     "name": "stdout",
     "output_type": "stream",
     "text": [
      "Best Threshold: -0.8\n",
      "[f1 = {0.5070}, pre = {0.8726}, rec = {0.3573}]\n",
      "Best Threshold: -1.1\n",
      "[f1 = {0.6614}, pre = {0.8447}, rec = {0.5435}]\n",
      "Best Threshold: -1.2\n",
      "[f1 = {0.6791}, pre = {0.8177}, rec = {0.5806}]\n",
      "Best Threshold: -1.3\n",
      "[f1 = {0.6869}, pre = {0.7840}, rec = {0.6112}]\n"
     ]
    }
   ],
   "source": [
    "# beta = 1.0\n",
    "df = pd.read_csv(\"/root/zengzihui/ISST/ISST_Baselines/mTAN/src/label_test.csv\", index_col=0)\n",
    "df = df.rename({'0':\"label\", '1':\"pred\"}, axis = 1)\n",
    "label = df.iloc[:, 0].to_list()\n",
    "predict = df.iloc[:,1].to_list()\n",
    "\n",
    "_, _, _, _ = search_best_f1(label, predict)"
   ]
  },
  {
   "cell_type": "code",
   "execution_count": 54,
   "metadata": {},
   "outputs": [
    {
     "name": "stdout",
     "output_type": "stream",
     "text": [
      "Best Threshold: -0.8\n",
      "[f1 = {0.7405}, pre = {0.8896}, rec = {0.6343}]\n",
      "Best Threshold: -0.7\n",
      "[f1 = {0.7431}, pre = {0.9005}, rec = {0.6326}]\n",
      "Best Threshold: -0.5\n",
      "[f1 = {0.7474}, pre = {0.9268}, rec = {0.6262}]\n",
      "Best Threshold: -0.3\n",
      "[f1 = {0.7522}, pre = {0.9583}, rec = {0.6191}]\n"
     ]
    }
   ],
   "source": [
    "# beta = 0.3\n",
    "df = pd.read_csv(\"/root/zengzihui/ISST/ISST_Baselines/mTAN/src/label_test_beta_0.3.csv\", index_col=0)\n",
    "df = df.rename({'0':\"label\", '1':\"pred\"}, axis = 1)\n",
    "label = df.iloc[:, 0].to_list()\n",
    "predict = df.iloc[:,1].to_list()\n",
    "\n",
    "_, _, _, _ = search_best_f1(label, predict)"
   ]
  },
  {
   "cell_type": "code",
   "execution_count": null,
   "metadata": {},
   "outputs": [],
   "source": []
  }
 ],
 "metadata": {
  "interpreter": {
   "hash": "0536a30985cff8954ebfb3a9fcf5a4c03aef1a4ca222b9b4257fa5d4ba044f55"
  },
  "kernelspec": {
   "display_name": "Python 3.8.13 ('mTan')",
   "language": "python",
   "name": "python3"
  },
  "language_info": {
   "codemirror_mode": {
    "name": "ipython",
    "version": 3
   },
   "file_extension": ".py",
   "mimetype": "text/x-python",
   "name": "python",
   "nbconvert_exporter": "python",
   "pygments_lexer": "ipython3",
   "version": "3.8.13"
  },
  "orig_nbformat": 4
 },
 "nbformat": 4,
 "nbformat_minor": 2
}
